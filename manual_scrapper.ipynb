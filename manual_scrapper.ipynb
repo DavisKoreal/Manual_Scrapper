{
 "cells": [
  {
   "cell_type": "code",
   "execution_count": 1,
   "metadata": {},
   "outputs": [
    {
     "name": "stderr",
     "output_type": "stream",
     "text": [
      "/snap/core20/current/lib/x86_64-linux-gnu/libstdc++.so.6: version `GLIBCXX_3.4.29' not found (required by /lib/x86_64-linux-gnu/libproxy.so.1)\n",
      "Failed to load module: /home/davis/snap/code/common/.cache/gio-modules/libgiolibproxy.so\n",
      "gnome-screenshot: symbol lookup error: /snap/core20/current/lib/x86_64-linux-gnu/libpthread.so.0: undefined symbol: __libc_pthread_init, version GLIBC_PRIVATE\n"
     ]
    },
    {
     "ename": "UnidentifiedImageError",
     "evalue": "cannot identify image file '/tmp/tmprd4t7gde.png'",
     "output_type": "error",
     "traceback": [
      "\u001b[0;31m---------------------------------------------------------------------------\u001b[0m",
      "\u001b[0;31mOSError\u001b[0m                                   Traceback (most recent call last)",
      "File \u001b[0;32m~/.local/lib/python3.10/site-packages/PIL/ImageGrab.py:70\u001b[0m, in \u001b[0;36mgrab\u001b[0;34m(bbox, include_layered_windows, all_screens, xdisplay)\u001b[0m\n\u001b[1;32m     69\u001b[0m         \u001b[38;5;28;01mraise\u001b[39;00m \u001b[38;5;167;01mOSError\u001b[39;00m(msg)\n\u001b[0;32m---> 70\u001b[0m     size, data \u001b[38;5;241m=\u001b[39m \u001b[43mImage\u001b[49m\u001b[38;5;241;43m.\u001b[39;49m\u001b[43mcore\u001b[49m\u001b[38;5;241;43m.\u001b[39;49m\u001b[43mgrabscreen_x11\u001b[49m\u001b[43m(\u001b[49m\u001b[43mxdisplay\u001b[49m\u001b[43m)\u001b[49m\n\u001b[1;32m     71\u001b[0m \u001b[38;5;28;01mexcept\u001b[39;00m \u001b[38;5;167;01mOSError\u001b[39;00m:\n",
      "\u001b[0;31mOSError\u001b[0m: X get_image failed: error 8 (73, 0, 560)",
      "\nDuring handling of the above exception, another exception occurred:\n",
      "\u001b[0;31mUnidentifiedImageError\u001b[0m                    Traceback (most recent call last)",
      "Cell \u001b[0;32mIn[1], line 10\u001b[0m\n\u001b[1;32m      7\u001b[0m     imagename \u001b[38;5;241m=\u001b[39m imagename \u001b[38;5;241m+\u001b[39m \u001b[38;5;124m\"\u001b[39m\u001b[38;5;124m.png\u001b[39m\u001b[38;5;124m\"\u001b[39m\n\u001b[1;32m      8\u001b[0m     image\u001b[38;5;241m.\u001b[39msave(imagename)\n\u001b[0;32m---> 10\u001b[0m \u001b[43mtake_screenshot\u001b[49m\u001b[43m(\u001b[49m\u001b[38;5;124;43m\"\u001b[39;49m\u001b[38;5;124;43msc\u001b[39;49m\u001b[38;5;124;43m\"\u001b[39;49m\u001b[43m)\u001b[49m\n",
      "Cell \u001b[0;32mIn[1], line 6\u001b[0m, in \u001b[0;36mtake_screenshot\u001b[0;34m(imagename)\u001b[0m\n\u001b[1;32m      5\u001b[0m \u001b[38;5;28;01mdef\u001b[39;00m \u001b[38;5;21mtake_screenshot\u001b[39m(imagename:\u001b[38;5;28mstr\u001b[39m):\n\u001b[0;32m----> 6\u001b[0m     image \u001b[38;5;241m=\u001b[39m \u001b[43mpyautogui\u001b[49m\u001b[38;5;241;43m.\u001b[39;49m\u001b[43mscreenshot\u001b[49m\u001b[43m(\u001b[49m\u001b[43m)\u001b[49m\n\u001b[1;32m      7\u001b[0m     imagename \u001b[38;5;241m=\u001b[39m imagename \u001b[38;5;241m+\u001b[39m \u001b[38;5;124m\"\u001b[39m\u001b[38;5;124m.png\u001b[39m\u001b[38;5;124m\"\u001b[39m\n\u001b[1;32m      8\u001b[0m     image\u001b[38;5;241m.\u001b[39msave(imagename)\n",
      "File \u001b[0;32m~/.local/lib/python3.10/site-packages/pyscreeze/__init__.py:603\u001b[0m, in \u001b[0;36m_screenshot_linux\u001b[0;34m(imageFilename, region)\u001b[0m\n\u001b[1;32m    596\u001b[0m \u001b[38;5;66;03m# Version 9.2.0 introduced using gnome-screenshot for ImageGrab.grab()\u001b[39;00m\n\u001b[1;32m    597\u001b[0m \u001b[38;5;66;03m# on Linux, which is necessary to have screenshots work with Wayland\u001b[39;00m\n\u001b[1;32m    598\u001b[0m \u001b[38;5;66;03m# (the replacement for x11.) Therefore, for 3.7 and later, PyScreeze\u001b[39;00m\n\u001b[1;32m    599\u001b[0m \u001b[38;5;66;03m# uses/requires 9.2.0.\u001b[39;00m\n\u001b[1;32m    600\u001b[0m \u001b[38;5;28;01mif\u001b[39;00m PILLOW_VERSION \u001b[38;5;241m>\u001b[39m\u001b[38;5;241m=\u001b[39m (\u001b[38;5;241m9\u001b[39m, \u001b[38;5;241m2\u001b[39m, \u001b[38;5;241m0\u001b[39m) \u001b[38;5;129;01mand\u001b[39;00m GNOMESCREENSHOT_EXISTS:\n\u001b[1;32m    601\u001b[0m     \u001b[38;5;66;03m# Pillow doesn't need tmpFilename because it works entirely in memory and doesn't\u001b[39;00m\n\u001b[1;32m    602\u001b[0m     \u001b[38;5;66;03m# need to save an image file to disk.\u001b[39;00m\n\u001b[0;32m--> 603\u001b[0m     im \u001b[38;5;241m=\u001b[39m \u001b[43mImageGrab\u001b[49m\u001b[38;5;241;43m.\u001b[39;49m\u001b[43mgrab\u001b[49m\u001b[43m(\u001b[49m\u001b[43m)\u001b[49m  \u001b[38;5;66;03m# use Pillow's grab() for Pillow 9.2.0 and later.\u001b[39;00m\n\u001b[1;32m    605\u001b[0m     \u001b[38;5;28;01mif\u001b[39;00m imageFilename \u001b[38;5;129;01mis\u001b[39;00m \u001b[38;5;129;01mnot\u001b[39;00m \u001b[38;5;28;01mNone\u001b[39;00m:\n\u001b[1;32m    606\u001b[0m         im\u001b[38;5;241m.\u001b[39msave(imageFilename)\n",
      "File \u001b[0;32m~/.local/lib/python3.10/site-packages/PIL/ImageGrab.py:80\u001b[0m, in \u001b[0;36mgrab\u001b[0;34m(bbox, include_layered_windows, all_screens, xdisplay)\u001b[0m\n\u001b[1;32m     78\u001b[0m os\u001b[38;5;241m.\u001b[39mclose(fh)\n\u001b[1;32m     79\u001b[0m subprocess\u001b[38;5;241m.\u001b[39mcall([\u001b[38;5;124m\"\u001b[39m\u001b[38;5;124mgnome-screenshot\u001b[39m\u001b[38;5;124m\"\u001b[39m, \u001b[38;5;124m\"\u001b[39m\u001b[38;5;124m-f\u001b[39m\u001b[38;5;124m\"\u001b[39m, filepath])\n\u001b[0;32m---> 80\u001b[0m im \u001b[38;5;241m=\u001b[39m \u001b[43mImage\u001b[49m\u001b[38;5;241;43m.\u001b[39;49m\u001b[43mopen\u001b[49m\u001b[43m(\u001b[49m\u001b[43mfilepath\u001b[49m\u001b[43m)\u001b[49m\n\u001b[1;32m     81\u001b[0m im\u001b[38;5;241m.\u001b[39mload()\n\u001b[1;32m     82\u001b[0m os\u001b[38;5;241m.\u001b[39munlink(filepath)\n",
      "File \u001b[0;32m~/.local/lib/python3.10/site-packages/PIL/Image.py:3339\u001b[0m, in \u001b[0;36mopen\u001b[0;34m(fp, mode, formats)\u001b[0m\n\u001b[1;32m   3337\u001b[0m     warnings\u001b[38;5;241m.\u001b[39mwarn(message)\n\u001b[1;32m   3338\u001b[0m msg \u001b[38;5;241m=\u001b[39m \u001b[38;5;124m\"\u001b[39m\u001b[38;5;124mcannot identify image file \u001b[39m\u001b[38;5;132;01m%r\u001b[39;00m\u001b[38;5;124m\"\u001b[39m \u001b[38;5;241m%\u001b[39m (filename \u001b[38;5;28;01mif\u001b[39;00m filename \u001b[38;5;28;01melse\u001b[39;00m fp)\n\u001b[0;32m-> 3339\u001b[0m \u001b[38;5;28;01mraise\u001b[39;00m UnidentifiedImageError(msg)\n",
      "\u001b[0;31mUnidentifiedImageError\u001b[0m: cannot identify image file '/tmp/tmprd4t7gde.png'"
     ]
    }
   ],
   "source": [
    "###Using MSS to take the screenshot\n",
    "\n",
    "import pyautogui\n",
    "\n",
    "def take_screenshot(imagename:str):\n",
    "    image = pyautogui.screenshot()\n",
    "    imagename = imagename + \".png\"\n",
    "    image.save(imagename)\n",
    "\n",
    "take_screenshot(\"sc\")"
   ]
  },
  {
   "cell_type": "markdown",
   "metadata": {},
   "source": [
    "For linux, start with:\n",
    "### sudo apt install gnome-screenshot"
   ]
  }
 ],
 "metadata": {
  "kernelspec": {
   "display_name": "Python 3",
   "language": "python",
   "name": "python3"
  },
  "language_info": {
   "codemirror_mode": {
    "name": "ipython",
    "version": 3
   },
   "file_extension": ".py",
   "mimetype": "text/x-python",
   "name": "python",
   "nbconvert_exporter": "python",
   "pygments_lexer": "ipython3",
   "version": "3.10.12"
  }
 },
 "nbformat": 4,
 "nbformat_minor": 2
}
